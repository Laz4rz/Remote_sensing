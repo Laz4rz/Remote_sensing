{
 "cells": [
  {
   "cell_type": "code",
   "execution_count": 1,
   "metadata": {},
   "outputs": [],
   "source": [
    "import os\n",
    "import cv2\n",
    "import rasterio\n",
    "from rasterio.plot import reshape_as_image\n",
    "import rasterio.mask\n",
    "from rasterio.features import rasterize\n",
    "import pandas as pd\n",
    "import geopandas as gpd\n",
    "from shapely.geometry import mapping, Point, Polygon\n",
    "from shapely.ops import cascaded_union\n",
    "import numpy as np\n",
    "import matplotlib.pyplot as plt\n",
    "from tqdm import tqdm\n",
    "from geopandas import GeoSeries\n",
    "from shapely.geometry import Polygon\n",
    "from rasterio.windows import Window\n",
    "from rasterio.plot import reshape_as_image\n",
    "\n",
    "\n",
    "%matplotlib inline"
   ]
  },
  {
   "cell_type": "code",
   "execution_count": 2,
   "metadata": {},
   "outputs": [],
   "source": [
    "PROJECT_DIR = '/home/mikolaj/github/quantum_geo/warsaw_ws/warsaw_ws_data'\n",
    "\n",
    "RASTER_PATH = os.path.join(PROJECT_DIR, 'T34JEP_20170101T082332/T34JEP_20170101T082332_TCI.jp2')\n",
    "TRAIN_POLYGONS_PATH = os.path.join(PROJECT_DIR, 'train-20220726T194123Z-001/train/train.shp')\n",
    "TEST_POLYGONS_PATH = os.path.join(PROJECT_DIR, 'train-20220726T194123Z-001/test/test.shp')\n",
    "TRAIN_POLYGONS_CONVERTED = os.path.join(PROJECT_DIR, 'train-20220726T194123Z-001/train/train_test.geojson')\n",
    "RASTER_MASK_PATH = os.path.join(PROJECT_DIR, 'mask.jp2')\n",
    "DROP_CSV_PATH = os.path.join(PROJECT_DIR, 'drop.csv')\n",
    "FRAGMENT_STORAGE = os.path.join(PROJECT_DIR, 'split')\n",
    "CROPPED_IMAGES = os.path.join(PROJECT_DIR, 'images_cropped_rgb')"
   ]
  },
  {
   "cell_type": "code",
   "execution_count": 3,
   "metadata": {},
   "outputs": [
    {
     "data": {
      "text/html": [
       "<div>\n",
       "<style scoped>\n",
       "    .dataframe tbody tr th:only-of-type {\n",
       "        vertical-align: middle;\n",
       "    }\n",
       "\n",
       "    .dataframe tbody tr th {\n",
       "        vertical-align: top;\n",
       "    }\n",
       "\n",
       "    .dataframe thead th {\n",
       "        text-align: right;\n",
       "    }\n",
       "</style>\n",
       "<table border=\"1\" class=\"dataframe\">\n",
       "  <thead>\n",
       "    <tr style=\"text-align: right;\">\n",
       "      <th></th>\n",
       "      <th>Field_Id</th>\n",
       "      <th>Area</th>\n",
       "      <th>Subregion</th>\n",
       "      <th>Crop_Id_Ne</th>\n",
       "      <th>geometry</th>\n",
       "    </tr>\n",
       "  </thead>\n",
       "  <tbody>\n",
       "    <tr>\n",
       "      <th>0</th>\n",
       "      <td>5</td>\n",
       "      <td>1.322590</td>\n",
       "      <td>3</td>\n",
       "      <td>NaN</td>\n",
       "      <td>POLYGON ((614428.585 6794207.235, 614453.032 6...</td>\n",
       "    </tr>\n",
       "    <tr>\n",
       "      <th>1</th>\n",
       "      <td>6</td>\n",
       "      <td>0.955864</td>\n",
       "      <td>3</td>\n",
       "      <td>NaN</td>\n",
       "      <td>POLYGON ((614617.139 6794163.688, 614629.797 6...</td>\n",
       "    </tr>\n",
       "    <tr>\n",
       "      <th>2</th>\n",
       "      <td>10</td>\n",
       "      <td>11.509800</td>\n",
       "      <td>3</td>\n",
       "      <td>NaN</td>\n",
       "      <td>POLYGON ((614352.457 6794416.784, 614346.004 6...</td>\n",
       "    </tr>\n",
       "    <tr>\n",
       "      <th>3</th>\n",
       "      <td>18</td>\n",
       "      <td>2.697520</td>\n",
       "      <td>3</td>\n",
       "      <td>NaN</td>\n",
       "      <td>POLYGON ((587079.139 6809196.167, 587169.928 6...</td>\n",
       "    </tr>\n",
       "    <tr>\n",
       "      <th>4</th>\n",
       "      <td>23</td>\n",
       "      <td>4.238030</td>\n",
       "      <td>3</td>\n",
       "      <td>NaN</td>\n",
       "      <td>POLYGON ((587292.059 6809495.257, 587319.701 6...</td>\n",
       "    </tr>\n",
       "    <tr>\n",
       "      <th>...</th>\n",
       "      <td>...</td>\n",
       "      <td>...</td>\n",
       "      <td>...</td>\n",
       "      <td>...</td>\n",
       "      <td>...</td>\n",
       "    </tr>\n",
       "    <tr>\n",
       "      <th>3563</th>\n",
       "      <td>3598</td>\n",
       "      <td>4.660920</td>\n",
       "      <td>7</td>\n",
       "      <td>6</td>\n",
       "      <td>POLYGON ((541023.437 6854828.753, 541033.054 6...</td>\n",
       "    </tr>\n",
       "    <tr>\n",
       "      <th>3564</th>\n",
       "      <td>3599</td>\n",
       "      <td>4.829750</td>\n",
       "      <td>7</td>\n",
       "      <td>6</td>\n",
       "      <td>POLYGON ((540644.339 6854746.972, 540664.861 6...</td>\n",
       "    </tr>\n",
       "    <tr>\n",
       "      <th>3565</th>\n",
       "      <td>3600</td>\n",
       "      <td>7.543830</td>\n",
       "      <td>7</td>\n",
       "      <td>6</td>\n",
       "      <td>POLYGON ((540924.654 6854621.464, 541081.816 6...</td>\n",
       "    </tr>\n",
       "    <tr>\n",
       "      <th>3566</th>\n",
       "      <td>3602</td>\n",
       "      <td>5.144850</td>\n",
       "      <td>6</td>\n",
       "      <td>6</td>\n",
       "      <td>POLYGON ((543856.043 6857156.769, 544057.982 6...</td>\n",
       "    </tr>\n",
       "    <tr>\n",
       "      <th>3567</th>\n",
       "      <td>3603</td>\n",
       "      <td>0.774865</td>\n",
       "      <td>3</td>\n",
       "      <td>6</td>\n",
       "      <td>POLYGON ((614045.823 6794309.096, 614097.302 6...</td>\n",
       "    </tr>\n",
       "  </tbody>\n",
       "</table>\n",
       "<p>3568 rows × 5 columns</p>\n",
       "</div>"
      ],
      "text/plain": [
       "      Field_Id       Area  Subregion Crop_Id_Ne  \\\n",
       "0            5   1.322590          3        NaN   \n",
       "1            6   0.955864          3        NaN   \n",
       "2           10  11.509800          3        NaN   \n",
       "3           18   2.697520          3        NaN   \n",
       "4           23   4.238030          3        NaN   \n",
       "...        ...        ...        ...        ...   \n",
       "3563      3598   4.660920          7          6   \n",
       "3564      3599   4.829750          7          6   \n",
       "3565      3600   7.543830          7          6   \n",
       "3566      3602   5.144850          6          6   \n",
       "3567      3603   0.774865          3          6   \n",
       "\n",
       "                                               geometry  \n",
       "0     POLYGON ((614428.585 6794207.235, 614453.032 6...  \n",
       "1     POLYGON ((614617.139 6794163.688, 614629.797 6...  \n",
       "2     POLYGON ((614352.457 6794416.784, 614346.004 6...  \n",
       "3     POLYGON ((587079.139 6809196.167, 587169.928 6...  \n",
       "4     POLYGON ((587292.059 6809495.257, 587319.701 6...  \n",
       "...                                                 ...  \n",
       "3563  POLYGON ((541023.437 6854828.753, 541033.054 6...  \n",
       "3564  POLYGON ((540644.339 6854746.972, 540664.861 6...  \n",
       "3565  POLYGON ((540924.654 6854621.464, 541081.816 6...  \n",
       "3566  POLYGON ((543856.043 6857156.769, 544057.982 6...  \n",
       "3567  POLYGON ((614045.823 6794309.096, 614097.302 6...  \n",
       "\n",
       "[3568 rows x 5 columns]"
      ]
     },
     "execution_count": 3,
     "metadata": {},
     "output_type": "execute_result"
    }
   ],
   "source": [
    "# read converted dataframe with geopandas TRAIN_POLYGONS_CONVERTED\n",
    "train = gpd.read_file(TRAIN_POLYGONS_CONVERTED)\n",
    "\n",
    "train"
   ]
  },
  {
   "cell_type": "code",
   "execution_count": 4,
   "metadata": {
    "scrolled": true
   },
   "outputs": [
    {
     "name": "stderr",
     "output_type": "stream",
     "text": [
      "  0%|          | 0/3568 [00:00<?, ?it/s]"
     ]
    },
    {
     "name": "stderr",
     "output_type": "stream",
     "text": [
      "  1%|          | 42/3568 [00:00<00:09, 354.00it/s]"
     ]
    },
    {
     "name": "stdout",
     "output_type": "stream",
     "text": [
      "Input shapes do not overlap raster.\n",
      "Input shapes do not overlap raster.\n",
      "Input shapes do not overlap raster.\n",
      "Input shapes do not overlap raster.\n",
      "Input shapes do not overlap raster.\n",
      "Input shapes do not overlap raster.\n",
      "Input shapes do not overlap raster.\n",
      "Input shapes do not overlap raster.\n",
      "Input shapes do not overlap raster.\n",
      "Input shapes do not overlap raster.\n",
      "Input shapes do not overlap raster.\n",
      "Input shapes do not overlap raster.\n",
      "Input shapes do not overlap raster.\n",
      "Input shapes do not overlap raster.\n",
      "Input shapes do not overlap raster.\n",
      "Input shapes do not overlap raster.\n",
      "Input shapes do not overlap raster.\n",
      "Input shapes do not overlap raster.\n",
      "Input shapes do not overlap raster.\n",
      "Input shapes do not overlap raster.\n",
      "Input shapes do not overlap raster.\n",
      "Input shapes do not overlap raster.\n",
      "Input shapes do not overlap raster.\n",
      "Input shapes do not overlap raster.\n",
      "Input shapes do not overlap raster.\n",
      "Input shapes do not overlap raster.\n",
      "Input shapes do not overlap raster.\n",
      "Input shapes do not overlap raster.\n",
      "Input shapes do not overlap raster.\n",
      "Input shapes do not overlap raster.\n",
      "Input shapes do not overlap raster.\n",
      "Input shapes do not overlap raster.\n",
      "Input shapes do not overlap raster.\n",
      "Input shapes do not overlap raster.\n",
      "Input shapes do not overlap raster.\n",
      "Input shapes do not overlap raster.\n",
      "Input shapes do not overlap raster.\n",
      "Input shapes do not overlap raster.\n",
      "Input shapes do not overlap raster.\n"
     ]
    },
    {
     "name": "stderr",
     "output_type": "stream",
     "text": [
      " 20%|██        | 717/3568 [00:01<00:07, 398.16it/s]"
     ]
    },
    {
     "name": "stdout",
     "output_type": "stream",
     "text": [
      "Input shapes do not overlap raster.\n",
      "Input shapes do not overlap raster.\n",
      "Input shapes do not overlap raster.\n",
      "Input shapes do not overlap raster.\n",
      "Input shapes do not overlap raster.\n",
      "Input shapes do not overlap raster.\n",
      "Input shapes do not overlap raster.\n",
      "Input shapes do not overlap raster.\n",
      "Input shapes do not overlap raster.\n",
      "Input shapes do not overlap raster.\n",
      "Input shapes do not overlap raster.\n",
      "Input shapes do not overlap raster.\n"
     ]
    },
    {
     "name": "stderr",
     "output_type": "stream",
     "text": [
      " 25%|██▍       | 878/3568 [00:02<00:06, 413.71it/s]"
     ]
    },
    {
     "name": "stdout",
     "output_type": "stream",
     "text": [
      "Input shapes do not overlap raster.\n",
      "Input shapes do not overlap raster.\n",
      "Input shapes do not overlap raster.\n",
      "Input shapes do not overlap raster.\n",
      "Input shapes do not overlap raster.\n",
      "Input shapes do not overlap raster.\n",
      "Input shapes do not overlap raster.\n",
      "Input shapes do not overlap raster.\n",
      "Input shapes do not overlap raster.\n"
     ]
    },
    {
     "name": "stderr",
     "output_type": "stream",
     "text": [
      " 30%|██▉       | 1069/3568 [00:02<00:04, 540.68it/s]"
     ]
    },
    {
     "name": "stdout",
     "output_type": "stream",
     "text": [
      "Input shapes do not overlap raster.\n",
      "Input shapes do not overlap raster.\n",
      "Input shapes do not overlap raster.\n",
      "Input shapes do not overlap raster.\n",
      "Input shapes do not overlap raster.\n",
      "Input shapes do not overlap raster.\n",
      "Input shapes do not overlap raster.\n",
      "Input shapes do not overlap raster.\n",
      "Input shapes do not overlap raster.\n",
      "Input shapes do not overlap raster.\n",
      "Input shapes do not overlap raster.\n",
      "Input shapes do not overlap raster.\n",
      "Input shapes do not overlap raster.\n",
      "Input shapes do not overlap raster.\n",
      "Input shapes do not overlap raster.\n",
      "Input shapes do not overlap raster.\n",
      "Input shapes do not overlap raster.\n",
      "Input shapes do not overlap raster.\n",
      "Input shapes do not overlap raster.\n",
      "Input shapes do not overlap raster.\n",
      "Input shapes do not overlap raster.\n",
      "Input shapes do not overlap raster.\n",
      "Input shapes do not overlap raster.\n",
      "Input shapes do not overlap raster.\n"
     ]
    },
    {
     "name": "stderr",
     "output_type": "stream",
     "text": [
      " 36%|███▌      | 1288/3568 [00:02<00:02, 805.82it/s]"
     ]
    },
    {
     "name": "stdout",
     "output_type": "stream",
     "text": [
      "Input shapes do not overlap raster.\n",
      "Input shapes do not overlap raster.\n",
      "Input shapes do not overlap raster.\n",
      "Input shapes do not overlap raster.\n",
      "Input shapes do not overlap raster.\n",
      "Input shapes do not overlap raster.\n",
      "Input shapes do not overlap raster.\n",
      "Input shapes do not overlap raster.\n",
      "Input shapes do not overlap raster.\n",
      "Input shapes do not overlap raster.\n",
      "Input shapes do not overlap raster.\n",
      "Input shapes do not overlap raster.\n",
      "Input shapes do not overlap raster.\n",
      "Input shapes do not overlap raster.\n",
      "Input shapes do not overlap raster.\n",
      "Input shapes do not overlap raster.\n",
      "Input shapes do not overlap raster.\n",
      "Input shapes do not overlap raster.\n",
      "Input shapes do not overlap raster.\n",
      "Input shapes do not overlap raster.\n",
      "Input shapes do not overlap raster.\n",
      "Input shapes do not overlap raster.\n",
      "Input shapes do not overlap raster.\n",
      "Input shapes do not overlap raster.\n",
      "Input shapes do not overlap raster.\n",
      "Input shapes do not overlap raster.\n",
      "Input shapes do not overlap raster.\n",
      "Input shapes do not overlap raster.\n",
      "Input shapes do not overlap raster.\n",
      "Input shapes do not overlap raster.\n",
      "Input shapes do not overlap raster.\n",
      "Input shapes do not overlap raster.\n",
      "Input shapes do not overlap raster.\n",
      "Input shapes do not overlap raster.\n",
      "Input shapes do not overlap raster.\n",
      "Input shapes do not overlap raster.\n",
      "Input shapes do not overlap raster.\n",
      "Input shapes do not overlap raster.\n",
      "Input shapes do not overlap raster.\n",
      "Input shapes do not overlap raster.\n",
      "Input shapes do not overlap raster.\n",
      "Input shapes do not overlap raster.\n",
      "Input shapes do not overlap raster.\n",
      "Input shapes do not overlap raster.\n",
      "Input shapes do not overlap raster.\n",
      "Input shapes do not overlap raster.\n",
      "Input shapes do not overlap raster.\n",
      "Input shapes do not overlap raster.\n",
      "Input shapes do not overlap raster.\n",
      "Input shapes do not overlap raster.\n",
      "Input shapes do not overlap raster.\n",
      "Input shapes do not overlap raster.\n",
      "Input shapes do not overlap raster.\n",
      "Input shapes do not overlap raster.\n",
      "Input shapes do not overlap raster.\n",
      "Input shapes do not overlap raster.\n",
      "Input shapes do not overlap raster.\n",
      "Input shapes do not overlap raster.\n",
      "Input shapes do not overlap raster.\n",
      "Input shapes do not overlap raster.\n",
      "Input shapes do not overlap raster.\n",
      "Input shapes do not overlap raster.\n",
      "Input shapes do not overlap raster.\n",
      "Input shapes do not overlap raster.\n"
     ]
    },
    {
     "name": "stderr",
     "output_type": "stream",
     "text": [
      " 77%|███████▋  | 2743/3568 [00:04<00:00, 1043.05it/s]"
     ]
    },
    {
     "name": "stdout",
     "output_type": "stream",
     "text": [
      "Input shapes do not overlap raster.\n",
      "Input shapes do not overlap raster.\n",
      "Input shapes do not overlap raster.\n",
      "Input shapes do not overlap raster.\n",
      "Input shapes do not overlap raster.\n",
      "Input shapes do not overlap raster.\n",
      "Input shapes do not overlap raster.\n",
      "Input shapes do not overlap raster.\n",
      "Input shapes do not overlap raster.\n",
      "Input shapes do not overlap raster.\n",
      "Input shapes do not overlap raster.\n",
      "Input shapes do not overlap raster.\n",
      "Input shapes do not overlap raster.\n",
      "Input shapes do not overlap raster.\n",
      "Input shapes do not overlap raster.\n",
      "Input shapes do not overlap raster.\n",
      "Input shapes do not overlap raster.\n",
      "Input shapes do not overlap raster.\n",
      "Input shapes do not overlap raster.\n",
      "Input shapes do not overlap raster.\n",
      "Input shapes do not overlap raster.\n",
      "Input shapes do not overlap raster.\n",
      "Input shapes do not overlap raster.\n",
      "Input shapes do not overlap raster.\n",
      "Input shapes do not overlap raster.\n",
      "Input shapes do not overlap raster.\n",
      "Input shapes do not overlap raster.\n",
      "Input shapes do not overlap raster.\n",
      "Input shapes do not overlap raster.\n",
      "Input shapes do not overlap raster.\n",
      "Input shapes do not overlap raster.\n",
      "Input shapes do not overlap raster.\n",
      "Input shapes do not overlap raster.\n",
      "Input shapes do not overlap raster.\n",
      "Input shapes do not overlap raster.\n",
      "Input shapes do not overlap raster.\n",
      "Input shapes do not overlap raster.\n"
     ]
    },
    {
     "name": "stderr",
     "output_type": "stream",
     "text": [
      " 87%|████████▋ | 3097/3568 [00:04<00:00, 1110.23it/s]"
     ]
    },
    {
     "name": "stdout",
     "output_type": "stream",
     "text": [
      "Input shapes do not overlap raster.\n",
      "Input shapes do not overlap raster.\n",
      "Input shapes do not overlap raster.\n",
      "Input shapes do not overlap raster.\n",
      "Input shapes do not overlap raster.\n",
      "Input shapes do not overlap raster.\n",
      "Input shapes do not overlap raster.\n",
      "Input shapes do not overlap raster.\n",
      "Input shapes do not overlap raster.\n",
      "Input shapes do not overlap raster.\n",
      "Input shapes do not overlap raster.\n",
      "Input shapes do not overlap raster.\n",
      "Input shapes do not overlap raster.\n",
      "Input shapes do not overlap raster.\n",
      "Input shapes do not overlap raster.\n",
      "Input shapes do not overlap raster.\n",
      "Input shapes do not overlap raster.\n",
      "Input shapes do not overlap raster.\n",
      "Input shapes do not overlap raster.\n",
      "Input shapes do not overlap raster.\n",
      "Input shapes do not overlap raster.\n"
     ]
    },
    {
     "name": "stderr",
     "output_type": "stream",
     "text": [
      " 96%|█████████▌| 3423/3568 [00:04<00:00, 1012.59it/s]"
     ]
    },
    {
     "name": "stdout",
     "output_type": "stream",
     "text": [
      "Input shapes do not overlap raster.\n",
      "Input shapes do not overlap raster.\n",
      "Input shapes do not overlap raster.\n",
      "Input shapes do not overlap raster.\n",
      "Input shapes do not overlap raster.\n",
      "Input shapes do not overlap raster.\n",
      "Input shapes do not overlap raster.\n",
      "Input shapes do not overlap raster.\n"
     ]
    },
    {
     "name": "stderr",
     "output_type": "stream",
     "text": [
      "100%|██████████| 3568/3568 [00:05<00:00, 711.89it/s] "
     ]
    },
    {
     "name": "stdout",
     "output_type": "stream",
     "text": [
      "Input shapes do not overlap raster.\n",
      "Input shapes do not overlap raster.\n",
      "Input shapes do not overlap raster.\n",
      "Input shapes do not overlap raster.\n",
      "Input shapes do not overlap raster.\n",
      "Input shapes do not overlap raster.\n",
      "failed:  220\n"
     ]
    },
    {
     "name": "stderr",
     "output_type": "stream",
     "text": [
      "\n"
     ]
    }
   ],
   "source": [
    "# create tiles of each field\n",
    "src = rasterio.open(RASTER_PATH)\n",
    "failed = []\n",
    "os.makedirs(CROPPED_IMAGES, exist_ok=True)\n",
    "\n",
    "for i, row in tqdm(train.iterrows(), total=len(train)):\n",
    "    try:\n",
    "        cropped_image, mask_transform = rasterio.mask.mask(src, [mapping(row.geometry)], crop=True, nodata=0)\n",
    "        cropped_image = reshape_as_image(cropped_image)\n",
    "        save_path = os.path.join(CROPPED_IMAGES, f'{row.Field_Id}.jpg')\n",
    "        cv2.imwrite(save_path, cropped_image)\n",
    "    except Exception as e:\n",
    "        failed.append(i)\n",
    "        print(e)\n",
    "print(\"failed: \", len(failed))"
   ]
  },
  {
   "cell_type": "code",
   "execution_count": 5,
   "metadata": {},
   "outputs": [
    {
     "name": "stdout",
     "output_type": "stream",
     "text": [
      "failed:  220\n"
     ]
    }
   ],
   "source": [
    "print(\"failed: \", len(failed))"
   ]
  },
  {
   "cell_type": "code",
   "execution_count": 6,
   "metadata": {},
   "outputs": [],
   "source": [
    "# rasterize works with polygons that are in image coordinate system\n",
    "\n",
    "def poly_from_utm(polygon, transform):\n",
    "    poly_pts = []\n",
    "    \n",
    "    # make a polygon from multipolygon\n",
    "    poly = cascaded_union(polygon)\n",
    "    for i in np.array(poly.exterior.coords):\n",
    "        \n",
    "        # transfrom polygon to image crs, using raster meta\n",
    "        poly_pts.append(~transform * tuple(i))\n",
    "        \n",
    "    # make a shapely Polygon object\n",
    "    new_poly = Polygon(poly_pts)\n",
    "    return new_poly"
   ]
  },
  {
   "cell_type": "code",
   "execution_count": 7,
   "metadata": {},
   "outputs": [
    {
     "name": "stdout",
     "output_type": "stream",
     "text": [
      "| 10.00, 0.00, 499980.00|\n",
      "| 0.00,-10.00, 6900040.00|\n",
      "| 0.00, 0.00, 1.00|\n"
     ]
    },
    {
     "name": "stderr",
     "output_type": "stream",
     "text": [
      "  0%|          | 0/3568 [00:00<?, ?it/s]/tmp/ipykernel_143552/2017575073.py:7: ShapelyDeprecationWarning: The 'cascaded_union()' function is deprecated. Use 'unary_union()' instead.\n",
      "  poly = cascaded_union(polygon)\n",
      " 19%|█▉        | 689/3568 [00:00<00:00, 6879.54it/s]/tmp/ipykernel_143552/3340298559.py:11: ShapelyDeprecationWarning: Iteration over multi-part geometries is deprecated and will be removed in Shapely 2.0. Use the `geoms` property to access the constituent parts of a multi-part geometry.\n",
      "  for p in row.geometry:\n",
      "100%|██████████| 3568/3568 [00:00<00:00, 7391.34it/s]\n"
     ]
    }
   ],
   "source": [
    "# creating binary mask for field/not_filed segmentation.\n",
    "# collect shapes via checking geom type and applying function\n",
    "poly_shp = []\n",
    "transform = src.transform\n",
    "print(transform)\n",
    "\n",
    "for i, row in tqdm(train.iterrows(), total=len(train)):\n",
    "    if row.geometry.geom_type == 'Polygon':\n",
    "        poly_shp.append(poly_from_utm(row.geometry, transform))\n",
    "    else:\n",
    "        for p in row.geometry:\n",
    "            poly_shp.append(poly_from_utm(p, transform))\n"
   ]
  },
  {
   "cell_type": "code",
   "execution_count": 8,
   "metadata": {},
   "outputs": [],
   "source": [
    "# rasterize mask mask\n",
    "bin_mask = rasterize(shapes=poly_shp, out_shape=src.shape)"
   ]
  },
  {
   "cell_type": "code",
   "execution_count": 9,
   "metadata": {
    "scrolled": true
   },
   "outputs": [
    {
     "data": {
      "text/plain": [
       "<matplotlib.image.AxesImage at 0x7f7e2ec7bb20>"
      ]
     },
     "execution_count": 9,
     "metadata": {},
     "output_type": "execute_result"
    },
    {
     "data": {
      "image/png": "[encoded data removed]",
      "text/plain": [
       "<Figure size 1000x1000 with 1 Axes>"
      ]
     },
     "metadata": {},
     "output_type": "display_data"
    }
   ],
   "source": [
    "# plotting the mask\n",
    "plt.figure(figsize=(10, 10))\n",
    "plt.imshow(bin_mask)\n"
   ]
  },
  {
   "cell_type": "code",
   "execution_count": 16,
   "metadata": {},
   "outputs": [],
   "source": [
    "# save mask to the disk with metadata from the original raster\n",
    "with rasterio.open(RASTER_PATH) as src:\n",
    "    meta = src.meta.copy()\n",
    "    meta.update({\"count\":1})\n",
    "    with rasterio.open(RASTER_MASK_PATH, 'w', **meta) as dst:\n",
    "        dst.write(bin_mask, 1)"
   ]
  },
  {
   "cell_type": "code",
   "execution_count": 17,
   "metadata": {},
   "outputs": [
    {
     "data": {
      "image/png": "[encoded data removed]",
      "text/plain": [
       "<Figure size 1000x1000 with 1 Axes>"
      ]
     },
     "metadata": {},
     "output_type": "display_data"
    }
   ],
   "source": [
    "# read from disk and plot to check\n",
    "with rasterio.open(RASTER_MASK_PATH) as src:\n",
    "    mask = src.read(1)\n",
    "    plt.figure(figsize=(10, 10))\n",
    "    plt.imshow(mask)"
   ]
  },
  {
   "cell_type": "code",
   "execution_count": 18,
   "metadata": {},
   "outputs": [],
   "source": [
    "def split_image(image_path, save_path, width, height):\n",
    "    \n",
    "    img_names = []\n",
    "    \n",
    "    if not os.path.exists(save_path):\n",
    "        os.makedirs(save_path, exist_ok=True)\n",
    "        print('Data directory created.')\n",
    "\n",
    "    os.makedirs(f'{save_path}/images', exist_ok=True)\n",
    "    with rasterio.open(image_path, \"r\") as src:\n",
    "        for j in tqdm(range(0, src.height // height)):\n",
    "            for i in range(0, src.width // width):\n",
    "                raster_window = src.read(\n",
    "                    window=Window(i * width, j * height, width, height)\n",
    "                )\n",
    "                image_array = reshape_as_image(raster_window)[:, :, :3]\n",
    "                if np.count_nonzero(image_array) > image_array.size * 0.9:\n",
    "                    filename_w_ext = os.path.basename(image_path)\n",
    "                    filename, _ = os.path.splitext(filename_w_ext)\n",
    "                    image_format = 'png'\n",
    "                    piece_name = f'{filename}_{j}_{i}.{image_format}'\n",
    "\n",
    "                    image_array = reshape_as_image(raster_window)\n",
    "                    img_name = f'{save_path}/images/{piece_name}'\n",
    "                    img_names.append(img_name)\n",
    "                    cv2.imwrite(img_name, image_array)\n",
    "\n",
    "    return img_names"
   ]
  },
  {
   "cell_type": "code",
   "execution_count": 132,
   "metadata": {},
   "outputs": [],
   "source": [
    "#split mask\n",
    "def split_mask(image_path, save_path, width, height):\n",
    "    \n",
    "    mask_names = []\n",
    "    drop_list = []\n",
    "    non_empty = 0\n",
    "    \n",
    "    if not os.path.exists(save_path):\n",
    "        os.makedirs(save_path, exist_ok=True)\n",
    "        print('Data directory created.')\n",
    "\n",
    "    os.makedirs(f'{save_path}/masks', exist_ok=True)\n",
    "    with rasterio.open(image_path) as src:\n",
    "        for j in tqdm(range(0, src.height // height)):\n",
    "            for i in range(0, src.width // width):\n",
    "                raster_window = src.read(window=Window(i * width, j * height, width, height))\n",
    "                image_array = reshape_as_image(raster_window)\n",
    "                filename_w_ext = os.path.basename(image_path)\n",
    "                filename, _ = os.path.splitext(filename_w_ext)\n",
    "                piece_name = f'{filename}_{j}_{i}.png'\n",
    "\n",
    "                image_array = reshape_as_image(raster_window)\n",
    "                # add the code here to subsample 10% of images to train and add it to drop_list\n",
    "                if np.sum(image_array) == 0:\n",
    "                    if np.random.rand() > 0.1:\n",
    "                        drop_list.append(PROJECT_DIR+piece_name)\n",
    "                        continue\n",
    "                else:\n",
    "                    non_empty += 1\n",
    "                \n",
    "                mask_name = f'{save_path}/masks/{piece_name}'\n",
    "                mask_names.append(mask_name)\n",
    "                image_array[image_array>1] = 1\n",
    "                cv2.imwrite(mask_name, image_array)\n",
    "\n",
    "    return mask_names, drop_list"
   ]
  },
  {
   "cell_type": "code",
   "execution_count": 126,
   "metadata": {},
   "outputs": [
    {
     "name": "stderr",
     "output_type": "stream",
     "text": [
      "100%|██████████| 42/42 [00:40<00:00,  1.04it/s]\n"
     ]
    }
   ],
   "source": [
    "image_names = split_image(RASTER_PATH, FRAGMENT_STORAGE, 256, 256)"
   ]
  },
  {
   "cell_type": "code",
   "execution_count": 133,
   "metadata": {},
   "outputs": [
    {
     "name": "stderr",
     "output_type": "stream",
     "text": [
      "100%|██████████| 42/42 [00:01<00:00, 35.35it/s]\n"
     ]
    }
   ],
   "source": [
    "mask_names, drop_list = split_mask(RASTER_MASK_PATH, FRAGMENT_STORAGE, 256, 256)"
   ]
  },
  {
   "cell_type": "code",
   "execution_count": 134,
   "metadata": {},
   "outputs": [
    {
     "data": {
      "text/html": [
       "<div>\n",
       "<style scoped>\n",
       "    .dataframe tbody tr th:only-of-type {\n",
       "        vertical-align: middle;\n",
       "    }\n",
       "\n",
       "    .dataframe tbody tr th {\n",
       "        vertical-align: top;\n",
       "    }\n",
       "\n",
       "    .dataframe thead th {\n",
       "        text-align: right;\n",
       "    }\n",
       "</style>\n",
       "<table border=\"1\" class=\"dataframe\">\n",
       "  <thead>\n",
       "    <tr style=\"text-align: right;\">\n",
       "      <th></th>\n",
       "      <th>images_to_drop</th>\n",
       "    </tr>\n",
       "  </thead>\n",
       "  <tbody>\n",
       "    <tr>\n",
       "      <th>0</th>\n",
       "      <td>/home/mikolaj/github/quantum_geo/warsaw_ws/war...</td>\n",
       "    </tr>\n",
       "    <tr>\n",
       "      <th>1</th>\n",
       "      <td>/home/mikolaj/github/quantum_geo/warsaw_ws/war...</td>\n",
       "    </tr>\n",
       "    <tr>\n",
       "      <th>2</th>\n",
       "      <td>/home/mikolaj/github/quantum_geo/warsaw_ws/war...</td>\n",
       "    </tr>\n",
       "    <tr>\n",
       "      <th>3</th>\n",
       "      <td>/home/mikolaj/github/quantum_geo/warsaw_ws/war...</td>\n",
       "    </tr>\n",
       "    <tr>\n",
       "      <th>4</th>\n",
       "      <td>/home/mikolaj/github/quantum_geo/warsaw_ws/war...</td>\n",
       "    </tr>\n",
       "    <tr>\n",
       "      <th>...</th>\n",
       "      <td>...</td>\n",
       "    </tr>\n",
       "    <tr>\n",
       "      <th>1507</th>\n",
       "      <td>/home/mikolaj/github/quantum_geo/warsaw_ws/war...</td>\n",
       "    </tr>\n",
       "    <tr>\n",
       "      <th>1508</th>\n",
       "      <td>/home/mikolaj/github/quantum_geo/warsaw_ws/war...</td>\n",
       "    </tr>\n",
       "    <tr>\n",
       "      <th>1509</th>\n",
       "      <td>/home/mikolaj/github/quantum_geo/warsaw_ws/war...</td>\n",
       "    </tr>\n",
       "    <tr>\n",
       "      <th>1510</th>\n",
       "      <td>/home/mikolaj/github/quantum_geo/warsaw_ws/war...</td>\n",
       "    </tr>\n",
       "    <tr>\n",
       "      <th>1511</th>\n",
       "      <td>/home/mikolaj/github/quantum_geo/warsaw_ws/war...</td>\n",
       "    </tr>\n",
       "  </tbody>\n",
       "</table>\n",
       "<p>1512 rows × 1 columns</p>\n",
       "</div>"
      ],
      "text/plain": [
       "                                         images_to_drop\n",
       "0     /home/mikolaj/github/quantum_geo/warsaw_ws/war...\n",
       "1     /home/mikolaj/github/quantum_geo/warsaw_ws/war...\n",
       "2     /home/mikolaj/github/quantum_geo/warsaw_ws/war...\n",
       "3     /home/mikolaj/github/quantum_geo/warsaw_ws/war...\n",
       "4     /home/mikolaj/github/quantum_geo/warsaw_ws/war...\n",
       "...                                                 ...\n",
       "1507  /home/mikolaj/github/quantum_geo/warsaw_ws/war...\n",
       "1508  /home/mikolaj/github/quantum_geo/warsaw_ws/war...\n",
       "1509  /home/mikolaj/github/quantum_geo/warsaw_ws/war...\n",
       "1510  /home/mikolaj/github/quantum_geo/warsaw_ws/war...\n",
       "1511  /home/mikolaj/github/quantum_geo/warsaw_ws/war...\n",
       "\n",
       "[1512 rows x 1 columns]"
      ]
     },
     "execution_count": 134,
     "metadata": {},
     "output_type": "execute_result"
    }
   ],
   "source": [
    "drop_list_df = pd.DataFrame()\n",
    "drop_list_df['images_to_drop'] = drop_list\n",
    "drop_list_df.to_csv(DROP_CSV_PATH, index=False)\n",
    "\n",
    "drop_list_df"
   ]
  },
  {
   "cell_type": "code",
   "execution_count": 117,
   "metadata": {},
   "outputs": [],
   "source": [
    "# create by removing masks \n",
    "used_image_names = [img_name for img_name in image_names if img_name.replace(\"images/T34JEP_20170101T082332_TCI\", \"masks/mask\") not in drop_list]\n",
    "used_masks = [mask_names[i] for i in range(0, len(mask_names)) if mask_names[i] not in drop_list]"
   ]
  },
  {
   "cell_type": "code",
   "execution_count": 118,
   "metadata": {},
   "outputs": [
    {
     "data": {
      "text/plain": [
       "['/home/mikolaj/github/quantum_geo/warsaw_ws/warsaw_ws_data/split/images/T34JEP_20170101T082332_TCI_0_0.png',\n",
       " '/home/mikolaj/github/quantum_geo/warsaw_ws/warsaw_ws_data/split/images/T34JEP_20170101T082332_TCI_0_1.png',\n",
       " '/home/mikolaj/github/quantum_geo/warsaw_ws/warsaw_ws_data/split/images/T34JEP_20170101T082332_TCI_0_2.png',\n",
       " '/home/mikolaj/github/quantum_geo/warsaw_ws/warsaw_ws_data/split/images/T34JEP_20170101T082332_TCI_0_3.png',\n",
       " '/home/mikolaj/github/quantum_geo/warsaw_ws/warsaw_ws_data/split/images/T34JEP_20170101T082332_TCI_0_4.png']"
      ]
     },
     "execution_count": 118,
     "metadata": {},
     "output_type": "execute_result"
    }
   ],
   "source": [
    "used_image_names[:5]"
   ]
  },
  {
   "cell_type": "code",
   "execution_count": 119,
   "metadata": {},
   "outputs": [
    {
     "data": {
      "text/plain": [
       "1764"
      ]
     },
     "execution_count": 119,
     "metadata": {},
     "output_type": "execute_result"
    }
   ],
   "source": [
    "len(used_image_names)"
   ]
  },
  {
   "cell_type": "code",
   "execution_count": 124,
   "metadata": {},
   "outputs": [
    {
     "ename": "IndexError",
     "evalue": "list index out of range",
     "output_type": "error",
     "traceback": [
      "\u001b[0;31m---------------------------------------------------------------------------\u001b[0m",
      "\u001b[0;31mIndexError\u001b[0m                                Traceback (most recent call last)",
      "Cell \u001b[0;32mIn[124], line 12\u001b[0m\n\u001b[1;32m     10\u001b[0m i \u001b[39m=\u001b[39m \u001b[39m100\u001b[39m \u001b[39m# 727\u001b[39;00m\n\u001b[1;32m     11\u001b[0m raster_image \u001b[39m=\u001b[39m cv2\u001b[39m.\u001b[39mimread(used_image_names[i])\n\u001b[0;32m---> 12\u001b[0m mask_image \u001b[39m=\u001b[39m cv2\u001b[39m.\u001b[39mimread(used_masks[i])\n\u001b[1;32m     14\u001b[0m f, axarr \u001b[39m=\u001b[39m plt\u001b[39m.\u001b[39msubplots(\u001b[39m1\u001b[39m, \u001b[39m2\u001b[39m)\n\u001b[1;32m     15\u001b[0m \u001b[39mprint\u001b[39m(\u001b[39mf\u001b[39m\u001b[39m'\u001b[39m\u001b[39mImage and mask: \u001b[39m\u001b[39m{\u001b[39;00mi\u001b[39m}\u001b[39;00m\u001b[39m'\u001b[39m)\n",
      "\u001b[0;31mIndexError\u001b[0m: list index out of range"
     ]
    }
   ],
   "source": [
    "# read and plot tile\n",
    "import random\n",
    "\n",
    "# find nonempty masks\n",
    "nonempty_mask_idx = []\n",
    "for i, mask in enumerate(used_masks):\n",
    "    if np.count_nonzero(cv2.imread(mask)) > 0:\n",
    "        nonempty_mask_idx.append(i)\n",
    "\n",
    "i = 100 # 727\n",
    "raster_image = cv2.imread(used_image_names[i])\n",
    "mask_image = cv2.imread(used_masks[i])\n",
    "\n",
    "f, axarr = plt.subplots(1, 2)\n",
    "print(f'Image and mask: {i}')\n",
    "f.set_size_inches(15, 15)\n",
    "axarr[0].imshow(raster_image)\n",
    "axarr[1].imshow(mask_image*255, 'gray')"
   ]
  },
  {
   "cell_type": "code",
   "execution_count": null,
   "metadata": {},
   "outputs": [],
   "source": []
  }
 ],
 "metadata": {
  "kernelspec": {
   "display_name": "Python 3",
   "language": "python",
   "name": "python3"
  },
  "language_info": {
   "codemirror_mode": {
    "name": "ipython",
    "version": 3
   },
   "file_extension": ".py",
   "mimetype": "text/x-python",
   "name": "python",
   "nbconvert_exporter": "python",
   "pygments_lexer": "ipython3",
   "version": "3.10.10"
  }
 },
 "nbformat": 4,
 "nbformat_minor": 2
}
